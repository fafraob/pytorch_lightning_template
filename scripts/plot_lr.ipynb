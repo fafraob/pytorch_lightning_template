{
 "cells": [
  {
   "cell_type": "code",
   "execution_count": null,
   "metadata": {},
   "outputs": [],
   "source": [
    "# see https://timm.fast.ai/SGDR for more examples\n",
    "from timm.scheduler import CosineLRScheduler\n",
    "from torch.optim import Adam\n",
    "from torch import nn\n",
    "from matplotlib import pyplot as plt"
   ]
  },
  {
   "cell_type": "code",
   "execution_count": null,
   "metadata": {},
   "outputs": [],
   "source": [
    "def get_lr_per_epoch(scheduler, num_epoch):\n",
    "    lr_per_epoch = []\n",
    "    for epoch in range(num_epoch):\n",
    "        lr_per_epoch.append(scheduler.get_epoch_values(epoch))\n",
    "    return lr_per_epoch"
   ]
  },
  {
   "cell_type": "code",
   "execution_count": null,
   "metadata": {},
   "outputs": [],
   "source": [
    "model = nn.Linear(10, 2)\n",
    "\n",
    "epochs = 20\n",
    "epochs_scheduler = epochs\n",
    "cycle_decay = 1\n",
    "lr_optim = 1e-3\n",
    "warmup_lr_init = 0\n",
    "lr_min = 1e-7\n",
    "warmup_t = 2\n",
    "cycle_limit = 1\n",
    "\n",
    "optimizer = Adam(model.parameters(), lr=lr_optim)\n",
    "\n",
    "scheduler = CosineLRScheduler(\n",
    "    optimizer, t_initial=epochs_scheduler, cycle_decay=cycle_decay,\n",
    "    lr_min=lr_min, warmup_t=warmup_t, warmup_lr_init=warmup_lr_init,\n",
    "    cycle_limit=cycle_limit)"
   ]
  },
  {
   "cell_type": "code",
   "execution_count": null,
   "metadata": {},
   "outputs": [],
   "source": [
    "lr_per_epoch = get_lr_per_epoch(scheduler, epochs)\n",
    "plt.plot([i for i in range(epochs)], lr_per_epoch)"
   ]
  },
  {
   "cell_type": "code",
   "execution_count": null,
   "metadata": {},
   "outputs": [],
   "source": []
  }
 ],
 "metadata": {
  "kernelspec": {
   "display_name": "Python 3.8.10 ('venv': venv)",
   "language": "python",
   "name": "python3"
  },
  "language_info": {
   "codemirror_mode": {
    "name": "ipython",
    "version": 3
   },
   "file_extension": ".py",
   "mimetype": "text/x-python",
   "name": "python",
   "nbconvert_exporter": "python",
   "pygments_lexer": "ipython3",
   "version": "3.8.10"
  },
  "orig_nbformat": 4,
  "vscode": {
   "interpreter": {
    "hash": "a7e0dd86ff67648cae043381dc2293baee5dfc10828a173a2d0e5ebf6dbd74cc"
   }
  }
 },
 "nbformat": 4,
 "nbformat_minor": 2
}
